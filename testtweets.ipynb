{
  "nbformat": 4,
  "nbformat_minor": 0,
  "metadata": {
    "colab": {
      "name": "Untitled3.ipynb",
      "provenance": [],
      "collapsed_sections": [],
      "authorship_tag": "ABX9TyOUerUztNlI5Vcu1Fyw3EPs",
      "include_colab_link": true
    },
    "kernelspec": {
      "name": "python3",
      "display_name": "Python 3"
    },
    "language_info": {
      "name": "python"
    }
  },
  "cells": [
    {
      "cell_type": "markdown",
      "metadata": {
        "id": "view-in-github",
        "colab_type": "text"
      },
      "source": [
        "<a href=\"https://colab.research.google.com/github/jingyish/retrieving-tweets/blob/main/testtweets.ipynb\" target=\"_parent\"><img src=\"https://colab.research.google.com/assets/colab-badge.svg\" alt=\"Open In Colab\"/></a>"
      ]
    },
    {
      "cell_type": "code",
      "execution_count": 1,
      "metadata": {
        "colab": {
          "base_uri": "https://localhost:8080/"
        },
        "id": "Yi9HN7SMRT3f",
        "outputId": "561c010a-fe8f-4c8c-e883-8c30c3763834"
      },
      "outputs": [
        {
          "output_type": "stream",
          "name": "stdout",
          "text": [
            "$LCID short squeeze after penny . Hold your shares . ️ #cryptocurrecy #RecvProfit\n",
            "$CFVI $DWAC time to fly 👍\n",
            "$OCGN A possible FDA approval for Half phase trial OCU400 at the same time. Uhhh weee!! Can’t get any better than t… https://t.co/BPZrtTjQW8\n",
            "@Ancient_Warrior @fastline @calv @sdk131 @Saltress @arghhhh @InvestingMorty @Rexillian @Alt_Fuel @Troutter $SRNE po… https://t.co/Ykn3M3TNDx\n",
            "okey, $OCGN NIH director helps you narrow it down. only touting Lancet study on twitter w / 11.7k+ likes. no big de… https://t.co/a32gCEOYxy\n",
            "RT @Lamiasdottir: I need you to explain #1 to me like I’m 5 years old.\n",
            "RT @WilliamBibbiani: 1. Into the Spider-Verse\n",
            "2. Spider-Man 2\n",
            "3. No Way Home\n",
            "4. Spider-Man\n",
            "5. Spider-Man 3\n",
            "6. Homecoming\n",
            "7. Amazing Spider-…\n",
            "RT @TWICESTATS: ✅#TWICE   MV\n",
            "Consecutive days to reach 1.0M views \n",
            "\n",
            "#1. I CAN’T STOP ME - 90 days\n",
            "#2. #TheFeels - 74 days⏫* \n",
            "#3. LIKEY - 70…\n",
            "RT @florsbeny: Look at this x100 #GameFi Gem‼\n",
            "\n",
            "Now @TitanBlockWars have a 0.5 #BNB #Giveaway. This #P2E third person shooter looks very uni…\n",
            "RT @TonyCurran69: Wasn’t easy getting inside the mind of the dangerously beautiful #MiaQueen AKA the lovely @Kat_McNamara but we had fun tr…\n",
            "RT @EricG1247: Asking for money is the worst part of running for office. But when you don't take cash from PACs, special interests, or gree…\n",
            "RT @Helloimmorgan: WOAH! I spoke with @TFGmykL\n",
            "&amp; it's my honor to GIVEAWAY 5 WL SPOTS!\n",
            "\n",
            "An innovative project that will immerse you into a…\n",
            "RT @Salem4Congress: PPP loans were created in 2020.\n",
            "\n",
            "Within 1.5 years, over 80% of them have been forgiven, totaling $600+ billion.\n",
            "\n",
            "Studen…\n",
            "RT @stonksarelife: $AMC just hit 90mill volume and green 5%. We have not seen that volume in a very long time. This brings back May-Jun vin…\n",
            "RT @Dienekes_: 5 years in the army. A working lifetime in the NHS. Volunteered to go back to work during Covid. But the government has made…\n",
            "@andrewluisaa Hey hope u get to see this \n",
            "\n",
            "FYD 4.7\n",
            "230 lbs\n",
            "6’1\n",
            "Gpa 3.5\n",
            "FAITH BAPTIST HS, state champs btw\n",
            "\n",
            "Highligh… https://t.co/RTO8XapolG\n",
            "My turn. Meet me in the cf https://t.co/u6fbhvnHf6\n",
            "RT @FORJINBASE: 21.12.14 | #JIN on YouTube \n",
            "\n",
            "• Yours — 4,741,192 (+28,595)🔼+918\n",
            "• Yours Lyric Video — 1,826,639 (+3,917)🔼+232\n",
            "• Yours Offic…\n",
            "RT @chitaglorya__: giveaway 75$ | 1,050,000 IDR\n",
            "\n",
            "-- rt &amp; follow @starlightleo7 &amp;  @mochineproms \n",
            "\n",
            "ends in 5 hour's good luck 🍒\n"
          ]
        }
      ],
      "source": [
        "import tweepy\n",
        "import sys\n",
        "\n",
        "def main_work(name, term, language):\n",
        "    auth = tweepy.OAuthHandler('jMCXJ1l7bdMmVGF87kn8iBNZ7', 'cwyMm17J0wtW3MubNiUfHeWZj2o0QkapDdfqPw52bDkckGDzPJ')\n",
        "    auth.set_access_token('1440733712258195460-bnsoQHsEAT8Ul8v97mKgNoIt61AHus', 'AUSOLPr074Q1f4oC8DHjI0l6xjVECQkWFwCoPu564GDvD')\n",
        "    \n",
        "    api = tweepy.API(auth)\n",
        "    \n",
        "    public_tweets = api.home_timeline()\n",
        "    '''\n",
        "    name = \"Michigan State Basketball\"  #search the name which I want to get\n",
        "    \n",
        "    number = 5\n",
        "    term = \"fly\" #search item which I want to find\n",
        "    language = \"en\"  #language code\n",
        "    '''\n",
        "    search = api.user_timeline(id = name, count = number)\n",
        "    result = api.search(q = term, lang = language)\n",
        "    for tweet in search:\n",
        "        t = tweet.text\n",
        "        print(t)\n",
        "    for tweet in result:\n",
        "        print(tweet.text)\n",
        "        \n",
        "def test():\n",
        "    print(\"this is for test\")\n",
        "    name = input(\"name: \")\n",
        "    number = int(input(\"number: \"))\n",
        "    language = input(\"language: \")\n",
        "    main_work(name, number, term, language)\n",
        "\n",
        "        \n",
        "if __name__ == '__main__':\n",
        "    \n",
        "    if len(sys.argv) > 1 and sys.argv[1] == 'test':\n",
        "        test()\n",
        "    else:\n",
        "        name = \"Michigan State Basketball\"  #search the name which I want to get\n",
        "        number = 5\n",
        "        term = \"fly\" #search item which I want to find\n",
        "        language = \"en\"  #language code\n",
        "        main_work(name, number, language)"
      ]
    }
  ]
}